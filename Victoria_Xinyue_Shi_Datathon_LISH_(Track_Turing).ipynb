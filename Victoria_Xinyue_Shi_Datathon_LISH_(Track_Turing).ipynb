{
  "nbformat": 4,
  "nbformat_minor": 0,
  "metadata": {
    "colab": {
      "provenance": [],
      "include_colab_link": true
    },
    "kernelspec": {
      "name": "python3",
      "display_name": "Python 3"
    },
    "language_info": {
      "name": "python"
    }
  },
  "cells": [
    {
      "cell_type": "markdown",
      "metadata": {
        "id": "view-in-github",
        "colab_type": "text"
      },
      "source": [
        "<a href=\"https://colab.research.google.com/github/VicXyShi/Datathon-LISH-Track-Turing-/blob/main/Victoria_Xinyue_Shi_Datathon_LISH_(Track_Turing).ipynb\" target=\"_parent\"><img src=\"https://colab.research.google.com/assets/colab-badge.svg\" alt=\"Open In Colab\"/></a>"
      ]
    },
    {
      "cell_type": "markdown",
      "source": [
        "# **Welcome to the Datathon@LISH Colab Notebook**\n",
        "\n",
        "This is the official contest notebook template for the [Datathon@LISH](https://sites.google.com/view/datathonatlish ). Use this notebook to compete in the competition!\n",
        "\n",
        "If you've never used Colab before, don't worry - it's basically a cloud-based Jupyter notebook. Here are some simple instructions to get you started:\n",
        "*   Double-click on a cell to edit it. To run a cell, either press the \"play\" button on the left, or press \"Ctrl/Cmd\" + \"Enter\".\n",
        "*   To open the table of contents for the notebook, click the \"Table of contents\" button in the top left (above the &#128269;)\n",
        "*   [Use \"Ctrl/Cmd + m\" then \"h\"](https://tuewithmorris.medium.com/google-colab-notebooks-keyboard-shortcuts-aa6a008fb91b) to pull up a quick overview of the main keyboard shortcuts.\n",
        "*   We recommend just playing around to get familiar. However, if you want a more systematic introduction, you can find more information on [the official Colab tutorial](https://colab.research.google.com/?utm_source=scs-index).\n",
        "\n"
      ],
      "metadata": {
        "id": "TUnzh9Nu77Cx"
      }
    },
    {
      "cell_type": "markdown",
      "source": [
        "# **Competition Rules and Submission Process for the Datathon@LISH**\n"
      ],
      "metadata": {
        "id": "fsRK6Rl19Epv"
      }
    },
    {
      "cell_type": "markdown",
      "source": [
        "## Setting Up Your Notebook and Sharing It with Us (*Important*)\n",
        "\n",
        "You'll need to make a copy of this notebook (stored in your personal google drive) *and* share the notebook with the contest google account (hbs.research.faculty@gmail.com). This is our mechanism for both verifying compliance to contest rules and collecting your code for reseach purposes. In order to do this, complete the following steps:\n",
        "1. Ensure that you’ve signed into a google account that associates with an email that you shared with us in the pre-contest survey. (This step is important to ensure that we can link the notebook to your pre-contest survey information)\n",
        "2. \tCreate a copy of the notebook in your personal Google Drive folder ([top left of page] File > Save a Copy in Drive), modifying the title to be relatively unique (e.g. adding your initials). [GIF of how to do this.](https://i.imgur.com/Mo4mpdt.mp4)\n",
        "3. \tShare [top-right of page] the newly created notebook with our contest organizer account (hbs.research.faculty@gmail.com) as an \"**Editor**\". Note that we will only use code for verifying rule compliance and research analysis, but will not be editing or monitoring the code during the contest - so please feel free to develop code as you would normally. [GIF of how to do this.](https://i.imgur.com/1Zw4yYl.mp4)\n",
        "\n",
        "This is the last bit of setup you need to do before starting on the problem. Once you’ve completed these steps, you’re all set to get started working!"
      ],
      "metadata": {
        "id": "FPWS3F8Vz2-C"
      }
    },
    {
      "cell_type": "markdown",
      "source": [
        "## Competition Rules *(Please Read Carefully!)*"
      ],
      "metadata": {
        "id": "px_k4AMEH6m0"
      }
    },
    {
      "cell_type": "markdown",
      "source": [
        "<a name=\"rules\"></a>\n",
        "Our datathon is split across two tracks, each with slightly different rules and with different contest rankings and winners. Your team has been randomly assigned to **Track Turing**, which has the rules listed below. Note that prizes will be awarded *within* your track, so everyone that you are competing against faces the same rules.\n",
        "\n",
        "+ **Contest Timeline.** You have until 5PM EST on Sunday, October 15th, 2023 to work on the problem. After that time, our kaggle submission website will not accept new predictions. You can see the contest timeline and remaining time in the contest on [our datathon website](https://sites.google.com/view/datathonatlish/home).\n",
        "+ **Do All of Your Work in This Notebook**. All work you (and your partner) do on the competition must be done within this notebook - you may *not* use your own integrated development environment (IDE). This includes any exploration of the data or problem space that you conduct before arriving at a final model.\n",
        "+ **No Additional Data Sets**. Do not use any additional data sets not already provided in this notebook. You may create new features based on existing features in the provided data.\n",
        ">We must be able to run your notebook from start to finish using only the input data files we have provided. Therefore, this notebook must contain all code necessary to produce your final submission to the competition. Before making your final submission, we recommend re-running your entire notebook in a clean environment to ensure it runs properly.\n",
        "+ **No External Help**. Do not discuss the details of the competition, prediction problem, or data set with anyone else (including other contest participants). All work should be your own (or your competition partner's).\n",
        "  >You may freely consult textbooks, documentation, and websites such as stack-overflow.\n",
        "+ &#9940; **Constraint on AI Tools.** You are not allowed to use any Large Language Models (LLMs) such as ChatGPT, or any AI tools that assist with programming tasks such as Github Copilot. If you have any questions about whether a particular tool is allowed, please reach out to the Datathon team at datathonatlish@hbs.edu.\n",
        "\n",
        "We will collect contest code at the end of the competition in order to verify rule compliance - if your code breaks any of the rules, then you will be excluded from consideration for contest prizes. This includes the constraint on the use of AI tools."
      ],
      "metadata": {
        "id": "-aRwqkcwzhxO"
      }
    },
    {
      "cell_type": "markdown",
      "source": [
        "## &#9940; Confirm Rule Compliance\n",
        "\n",
        "**I confirm that I followed all of the stated rules of the competition, including the constraint on AI tools.**\n",
        "\n",
        "Please type your full name(s) below to indicate your agreement with the above statement."
      ],
      "metadata": {
        "id": "pHkZLUcr8RCZ"
      }
    },
    {
      "cell_type": "markdown",
      "source": [
        "<u>Participant #1</u>: Xinyue (Victoria) Shi"
      ],
      "metadata": {
        "id": "_9RsosEH7GnO"
      }
    },
    {
      "cell_type": "markdown",
      "source": [
        "<u>Participant #2</u> (*if applicable*): [TYPE FULL NAME HERE TO AGREE TO THE ABOVE STATEMENT]"
      ],
      "metadata": {
        "id": "3UvPGF0l8EgA"
      }
    },
    {
      "cell_type": "markdown",
      "source": [
        "## Prizes, Submitting Predictions, and Prize Eligibility\n",
        "1. Prizes will be awarded within your contest track, based on your performance in the out-of-sample holdout vs others in the same track. This means that you may not be directly competing against some of your friends; however, it also means there’s less competition and a better chance for you to win a prize!\n",
        "2. Your predictions must be submitted to Kaggle to be counted towards a prize. As you work on the problem within this notebook, you can make multiple submissions to the prediction competition hosted on Kaggle [here](https://www.kaggle.com/t/1343c820124247e0afa3d2bbe28f7514). The **Submit to Competition** section at the bottom of the notebook contains instructions and code snippets for exporting and submitting your predictions.\n",
        "2. The prizes (for each track) are as follows:\n",
        "  - First Prize: \\$1000 Cash\n",
        "  - Second Prize: \\$500 Cash\n",
        "  - Third Prize: \\$250 Cash\n",
        "  - Top-Ten (Places 4th through 10th): \\$50 Amazon Gift Card\n",
        "  - Participation Prize: \\$10 Amazon Gift Card\n",
        "  - Documentation Prize: \\$500 Cash\n",
        "3. In order to be eligible to receive contest prizes, you (or your partner) must over 18 years old and be an affiliate of a US-based university. To win a cash prize, you must additionally be eligible to work in the USA (i.e. have a SSN). In addition, the following conditions must hold:\n",
        "  1.  Completion of the Pre- and Post- Contest Surveys\n",
        "  2.  You Shared Your Colab Notebook with hbs.research.faculty@gmail.com.\n",
        "  3.  You Submitted a Kaggle Submission on your assigned Contest Track that beats the competition baseline score.\n",
        "  4.  You Code passes our automated Rule Checker, which will enforce contest rules (listed above).\n",
        "\n",
        "  We will send status check emails periodically throughout the contest to ensure that you have opportunities to complete all of these steps!\n"
      ],
      "metadata": {
        "id": "YbN0_DJvOAXZ"
      }
    },
    {
      "cell_type": "markdown",
      "source": [
        "# **Data Challenge Overview -- Richter's Predictor: Modeling Earthquake Damage**\n",
        "\n",
        "The impact of an earthquake is profound and far-reaching, displacing communities and destroying the infrastructure their lives depend on. A smart understanding of a building’s ability to withstand earthquakes can focus efforts to improve building infrastructure and mitigate the damage caused by future earthquakes. In this competition, you will solve a binary classification focused on predicting the level of damage to buildings caused by the 2015 Gorkha earthquake in Nepal, based on aspects of building location and construction.\n",
        "\n",
        "We will evaluate prediction quality according to a [Log-Loss Error Function](https://www.kaggle.com/dansbecker/what-is-log-loss). (Note that this is different than Percent Accuracy!) As you know, a good statistical model is paramount for helping organizations allocate maintenance resources effectively. We’ve sourced this problem from our friends at [DrivenData](https://www.drivendata.org/), who are some awesome alumni of Harvard Business School and the School of Engineering and Applied Sciences."
      ],
      "metadata": {
        "id": "bwiIrTn9oS2A"
      }
    },
    {
      "cell_type": "markdown",
      "source": [
        "## **Data Dictionary**\n",
        "\n",
        "---\n",
        "\n",
        "\n",
        "\n",
        "**Target Feature**:\n",
        "+ `damage_grade`: level of damage to the building that was hit by the earthquake. There are 2 grades of the damage:\n",
        "\n",
        "  + `0` represents low damage\n",
        "  + `1` represents moderate to high damage\n",
        "\n",
        "**Predictors**: <br>\n",
        "* `geo_level_1_id, geo_level_2_id, geo_level_3_id_group` : geographic region in which building exists, from largest (level 1) to most specific sub-region (level 3).\n",
        "* `count_floors_pre_eq`: number of floors in the building before the earthquake.\n",
        "* `age`: age of the building in years\n",
        "* `area_percentage`: normalized area of the building footprint.\n",
        "* `height_percentage`: normalized height of the building.\n",
        "footprint.\n",
        "* `land_surface_condition`: surface condition of the land where the building was built.\n",
        "* `foundation_type`: type of foundation used while building.\n",
        "* `roof_type`: type of roof used while building.\n",
        "* `ground_floor_type`: type of the ground floor.\n",
        "* `other_floor_type`: type of constructions used above the ground floor.\n",
        "* `position`: position of the building\n",
        "* `plan_configuration`: building plan configuration.\n",
        "* `has_superstructure_adobe_mud`: flag variable that indicates if the superstructure was made of Adobe/Mud.\n",
        "* `has_superstructure_mud_mortar_stone`: flag variable that indicates if the superstructure was made of Mud Mortar - Stone.\n",
        "* `has_superstructure_stone_flag`: flag variable that indicates if the superstructure was made of Stone.\n",
        "* `has_superstructure_cement_mortar_stone`: flag variable that indicates if the superstructure was made of Mud Mortar - Brick.\n",
        "* `has_superstructure_mud_mortar_brick`: flag variable that indicates if the superstructure was made of Mud Mortar - Brick.\n",
        "* `has_superstructure_cement_mortar_brick`: flag variable that indicates if the superstructure was made of Cement Mortar - Brick.\n",
        "* `has_superstructure_timber`: flag variable that indicates if the superstructure was made of Timber.\n",
        "* `has_superstructure_bamboo`: flag variable that indicates if the superstructure was made of Bamboo.\n",
        "* `has_superstructure_rc_non_engineered`: flag variable that indicates if the superstructure was made of non-engineered reinforced concrete.\n",
        "* `has_superstructure_rc_engineered`: flag variable that indicates if the superstructure was made of engineered reinforced concrete.\n",
        "* `has_superstructure_other`: flag variable that indicates if the superstructure was made of any other material.\n",
        "* `legal_ownership_status`: legal ownership status of the land where the building was built.\n",
        "* `count_families`: number of families that live in the building.\n",
        "* `has_secondary_use`: flag variable that indicates if the building was used for any secondary purpose.\n",
        "* `has_secondary_use_agriculture`: flag variable that indicates if the building was used for agricultural purposes.\n",
        "* `has_secondary_use_hotel`: flag variable that indicates if the building was used as a hotel.\n",
        "* `has_secondary_use_rental`: flag variable that indicates if the building was used for rental purposes.\n",
        "* `has_secondary_use_institution`: flag variable that indicates if the building was used as a location of any institution.\n",
        "* `has_secondary_use_school`: flag variable that indicates if the building was used as a school.\n",
        "* `has_secondary_use_industry`: flag variable that indicates if the building was used for industrial purposes.\n",
        "* `has_secondary_use_health_post`: flag variable that indicates if the building was used as a health post.\n",
        "* `has_secondary_use_gov_office`: flag variable that indicates if the building was used fas a government office.\n",
        "* `has_secondary_use_use_police`: flag variable that indicates if the building was used as a police station.\n",
        "* `has_secondary_use_other`: flag variable that indicates if the building was secondarily used for other purposes."
      ],
      "metadata": {
        "id": "Gc4YtrEMSmjn"
      }
    },
    {
      "cell_type": "markdown",
      "source": [
        "# **Your Contest Code**"
      ],
      "metadata": {
        "id": "kj33bnYuoYha"
      }
    },
    {
      "cell_type": "markdown",
      "metadata": {
        "id": "4gEuFfBY5jYS"
      },
      "source": [
        "## **Load Data**\n",
        "\n",
        "Run the cell below to download and read in the training data."
      ]
    },
    {
      "cell_type": "code",
      "metadata": {
        "id": "HMEf2HarZgBG",
        "colab": {
          "base_uri": "https://localhost:8080/",
          "height": 273
        },
        "outputId": "83fb3a05-341f-4e34-905a-f6ffd8788338"
      },
      "source": [
        "# Do not modify this\n",
        "%autosave 60\n",
        "import gdown\n",
        "import pandas as pd\n",
        "\n",
        "# Download the training data from drive\n",
        "trainURL = \"https://drive.google.com/uc?id=1PT2rvIbVivi--VnpsiCvonZwquWKbPXX\"\n",
        "gdown.download(trainURL, \"train.csv\", quiet=True)\n",
        "\n",
        "# Read in the training data to a pandas dataframe called train\n",
        "train = pd.read_csv(\"train.csv\")\n",
        "train.head()"
      ],
      "execution_count": null,
      "outputs": [
        {
          "output_type": "display_data",
          "data": {
            "application/javascript": [
              "IPython.notebook.set_autosave_interval(60000)"
            ]
          },
          "metadata": {}
        },
        {
          "output_type": "stream",
          "name": "stdout",
          "text": [
            "Autosaving every 60 seconds\n"
          ]
        },
        {
          "output_type": "execute_result",
          "data": {
            "text/plain": [
              "   building_id  geo_level_1_id  geo_level_2_id  geo_level_3_id  \\\n",
              "0       319954              10             151            7723   \n",
              "1       109339              10            1407            9774   \n",
              "2       326182              21             581            2565   \n",
              "3       309380               6            1277            7577   \n",
              "4       116482               8            1114            8002   \n",
              "\n",
              "   count_floors_pre_eq  age  area_percentage  height_percentage  \\\n",
              "0                    4    5               19                 12   \n",
              "1                    3   30                5                  5   \n",
              "2                    3   10                6                  7   \n",
              "3                    3   30                7                  7   \n",
              "4                    2    0                5                  5   \n",
              "\n",
              "  land_surface_condition foundation_type  ... has_secondary_use_hotel  \\\n",
              "0                      t               i  ...                       1   \n",
              "1                      t               r  ...                       0   \n",
              "2                      t               r  ...                       0   \n",
              "3                      t               r  ...                       0   \n",
              "4                      t               r  ...                       0   \n",
              "\n",
              "  has_secondary_use_rental has_secondary_use_institution  \\\n",
              "0                        0                             0   \n",
              "1                        0                             0   \n",
              "2                        0                             0   \n",
              "3                        0                             0   \n",
              "4                        0                             0   \n",
              "\n",
              "  has_secondary_use_school has_secondary_use_industry  \\\n",
              "0                        0                          0   \n",
              "1                        0                          0   \n",
              "2                        0                          0   \n",
              "3                        0                          0   \n",
              "4                        0                          0   \n",
              "\n",
              "   has_secondary_use_health_post  has_secondary_use_gov_office  \\\n",
              "0                              0                             0   \n",
              "1                              0                             0   \n",
              "2                              0                             0   \n",
              "3                              0                             0   \n",
              "4                              0                             0   \n",
              "\n",
              "   has_secondary_use_use_police  has_secondary_use_other  damage_grade  \n",
              "0                             0                        0             0  \n",
              "1                             0                        0             1  \n",
              "2                             0                        0             1  \n",
              "3                             0                        0             1  \n",
              "4                             0                        0             1  \n",
              "\n",
              "[5 rows x 40 columns]"
            ],
            "text/html": [
              "\n",
              "  <div id=\"df-15b2eb78-876b-4057-bce4-58d20bf660db\" class=\"colab-df-container\">\n",
              "    <div>\n",
              "<style scoped>\n",
              "    .dataframe tbody tr th:only-of-type {\n",
              "        vertical-align: middle;\n",
              "    }\n",
              "\n",
              "    .dataframe tbody tr th {\n",
              "        vertical-align: top;\n",
              "    }\n",
              "\n",
              "    .dataframe thead th {\n",
              "        text-align: right;\n",
              "    }\n",
              "</style>\n",
              "<table border=\"1\" class=\"dataframe\">\n",
              "  <thead>\n",
              "    <tr style=\"text-align: right;\">\n",
              "      <th></th>\n",
              "      <th>building_id</th>\n",
              "      <th>geo_level_1_id</th>\n",
              "      <th>geo_level_2_id</th>\n",
              "      <th>geo_level_3_id</th>\n",
              "      <th>count_floors_pre_eq</th>\n",
              "      <th>age</th>\n",
              "      <th>area_percentage</th>\n",
              "      <th>height_percentage</th>\n",
              "      <th>land_surface_condition</th>\n",
              "      <th>foundation_type</th>\n",
              "      <th>...</th>\n",
              "      <th>has_secondary_use_hotel</th>\n",
              "      <th>has_secondary_use_rental</th>\n",
              "      <th>has_secondary_use_institution</th>\n",
              "      <th>has_secondary_use_school</th>\n",
              "      <th>has_secondary_use_industry</th>\n",
              "      <th>has_secondary_use_health_post</th>\n",
              "      <th>has_secondary_use_gov_office</th>\n",
              "      <th>has_secondary_use_use_police</th>\n",
              "      <th>has_secondary_use_other</th>\n",
              "      <th>damage_grade</th>\n",
              "    </tr>\n",
              "  </thead>\n",
              "  <tbody>\n",
              "    <tr>\n",
              "      <th>0</th>\n",
              "      <td>319954</td>\n",
              "      <td>10</td>\n",
              "      <td>151</td>\n",
              "      <td>7723</td>\n",
              "      <td>4</td>\n",
              "      <td>5</td>\n",
              "      <td>19</td>\n",
              "      <td>12</td>\n",
              "      <td>t</td>\n",
              "      <td>i</td>\n",
              "      <td>...</td>\n",
              "      <td>1</td>\n",
              "      <td>0</td>\n",
              "      <td>0</td>\n",
              "      <td>0</td>\n",
              "      <td>0</td>\n",
              "      <td>0</td>\n",
              "      <td>0</td>\n",
              "      <td>0</td>\n",
              "      <td>0</td>\n",
              "      <td>0</td>\n",
              "    </tr>\n",
              "    <tr>\n",
              "      <th>1</th>\n",
              "      <td>109339</td>\n",
              "      <td>10</td>\n",
              "      <td>1407</td>\n",
              "      <td>9774</td>\n",
              "      <td>3</td>\n",
              "      <td>30</td>\n",
              "      <td>5</td>\n",
              "      <td>5</td>\n",
              "      <td>t</td>\n",
              "      <td>r</td>\n",
              "      <td>...</td>\n",
              "      <td>0</td>\n",
              "      <td>0</td>\n",
              "      <td>0</td>\n",
              "      <td>0</td>\n",
              "      <td>0</td>\n",
              "      <td>0</td>\n",
              "      <td>0</td>\n",
              "      <td>0</td>\n",
              "      <td>0</td>\n",
              "      <td>1</td>\n",
              "    </tr>\n",
              "    <tr>\n",
              "      <th>2</th>\n",
              "      <td>326182</td>\n",
              "      <td>21</td>\n",
              "      <td>581</td>\n",
              "      <td>2565</td>\n",
              "      <td>3</td>\n",
              "      <td>10</td>\n",
              "      <td>6</td>\n",
              "      <td>7</td>\n",
              "      <td>t</td>\n",
              "      <td>r</td>\n",
              "      <td>...</td>\n",
              "      <td>0</td>\n",
              "      <td>0</td>\n",
              "      <td>0</td>\n",
              "      <td>0</td>\n",
              "      <td>0</td>\n",
              "      <td>0</td>\n",
              "      <td>0</td>\n",
              "      <td>0</td>\n",
              "      <td>0</td>\n",
              "      <td>1</td>\n",
              "    </tr>\n",
              "    <tr>\n",
              "      <th>3</th>\n",
              "      <td>309380</td>\n",
              "      <td>6</td>\n",
              "      <td>1277</td>\n",
              "      <td>7577</td>\n",
              "      <td>3</td>\n",
              "      <td>30</td>\n",
              "      <td>7</td>\n",
              "      <td>7</td>\n",
              "      <td>t</td>\n",
              "      <td>r</td>\n",
              "      <td>...</td>\n",
              "      <td>0</td>\n",
              "      <td>0</td>\n",
              "      <td>0</td>\n",
              "      <td>0</td>\n",
              "      <td>0</td>\n",
              "      <td>0</td>\n",
              "      <td>0</td>\n",
              "      <td>0</td>\n",
              "      <td>0</td>\n",
              "      <td>1</td>\n",
              "    </tr>\n",
              "    <tr>\n",
              "      <th>4</th>\n",
              "      <td>116482</td>\n",
              "      <td>8</td>\n",
              "      <td>1114</td>\n",
              "      <td>8002</td>\n",
              "      <td>2</td>\n",
              "      <td>0</td>\n",
              "      <td>5</td>\n",
              "      <td>5</td>\n",
              "      <td>t</td>\n",
              "      <td>r</td>\n",
              "      <td>...</td>\n",
              "      <td>0</td>\n",
              "      <td>0</td>\n",
              "      <td>0</td>\n",
              "      <td>0</td>\n",
              "      <td>0</td>\n",
              "      <td>0</td>\n",
              "      <td>0</td>\n",
              "      <td>0</td>\n",
              "      <td>0</td>\n",
              "      <td>1</td>\n",
              "    </tr>\n",
              "  </tbody>\n",
              "</table>\n",
              "<p>5 rows × 40 columns</p>\n",
              "</div>\n",
              "    <div class=\"colab-df-buttons\">\n",
              "\n",
              "  <div class=\"colab-df-container\">\n",
              "    <button class=\"colab-df-convert\" onclick=\"convertToInteractive('df-15b2eb78-876b-4057-bce4-58d20bf660db')\"\n",
              "            title=\"Convert this dataframe to an interactive table.\"\n",
              "            style=\"display:none;\">\n",
              "\n",
              "  <svg xmlns=\"http://www.w3.org/2000/svg\" height=\"24px\" viewBox=\"0 -960 960 960\">\n",
              "    <path d=\"M120-120v-720h720v720H120Zm60-500h600v-160H180v160Zm220 220h160v-160H400v160Zm0 220h160v-160H400v160ZM180-400h160v-160H180v160Zm440 0h160v-160H620v160ZM180-180h160v-160H180v160Zm440 0h160v-160H620v160Z\"/>\n",
              "  </svg>\n",
              "    </button>\n",
              "\n",
              "  <style>\n",
              "    .colab-df-container {\n",
              "      display:flex;\n",
              "      gap: 12px;\n",
              "    }\n",
              "\n",
              "    .colab-df-convert {\n",
              "      background-color: #E8F0FE;\n",
              "      border: none;\n",
              "      border-radius: 50%;\n",
              "      cursor: pointer;\n",
              "      display: none;\n",
              "      fill: #1967D2;\n",
              "      height: 32px;\n",
              "      padding: 0 0 0 0;\n",
              "      width: 32px;\n",
              "    }\n",
              "\n",
              "    .colab-df-convert:hover {\n",
              "      background-color: #E2EBFA;\n",
              "      box-shadow: 0px 1px 2px rgba(60, 64, 67, 0.3), 0px 1px 3px 1px rgba(60, 64, 67, 0.15);\n",
              "      fill: #174EA6;\n",
              "    }\n",
              "\n",
              "    .colab-df-buttons div {\n",
              "      margin-bottom: 4px;\n",
              "    }\n",
              "\n",
              "    [theme=dark] .colab-df-convert {\n",
              "      background-color: #3B4455;\n",
              "      fill: #D2E3FC;\n",
              "    }\n",
              "\n",
              "    [theme=dark] .colab-df-convert:hover {\n",
              "      background-color: #434B5C;\n",
              "      box-shadow: 0px 1px 3px 1px rgba(0, 0, 0, 0.15);\n",
              "      filter: drop-shadow(0px 1px 2px rgba(0, 0, 0, 0.3));\n",
              "      fill: #FFFFFF;\n",
              "    }\n",
              "  </style>\n",
              "\n",
              "    <script>\n",
              "      const buttonEl =\n",
              "        document.querySelector('#df-15b2eb78-876b-4057-bce4-58d20bf660db button.colab-df-convert');\n",
              "      buttonEl.style.display =\n",
              "        google.colab.kernel.accessAllowed ? 'block' : 'none';\n",
              "\n",
              "      async function convertToInteractive(key) {\n",
              "        const element = document.querySelector('#df-15b2eb78-876b-4057-bce4-58d20bf660db');\n",
              "        const dataTable =\n",
              "          await google.colab.kernel.invokeFunction('convertToInteractive',\n",
              "                                                    [key], {});\n",
              "        if (!dataTable) return;\n",
              "\n",
              "        const docLinkHtml = 'Like what you see? Visit the ' +\n",
              "          '<a target=\"_blank\" href=https://colab.research.google.com/notebooks/data_table.ipynb>data table notebook</a>'\n",
              "          + ' to learn more about interactive tables.';\n",
              "        element.innerHTML = '';\n",
              "        dataTable['output_type'] = 'display_data';\n",
              "        await google.colab.output.renderOutput(dataTable, element);\n",
              "        const docLink = document.createElement('div');\n",
              "        docLink.innerHTML = docLinkHtml;\n",
              "        element.appendChild(docLink);\n",
              "      }\n",
              "    </script>\n",
              "  </div>\n",
              "\n",
              "\n",
              "<div id=\"df-9fbbe882-28df-422c-bd2e-411cbcf362d9\">\n",
              "  <button class=\"colab-df-quickchart\" onclick=\"quickchart('df-9fbbe882-28df-422c-bd2e-411cbcf362d9')\"\n",
              "            title=\"Suggest charts.\"\n",
              "            style=\"display:none;\">\n",
              "\n",
              "<svg xmlns=\"http://www.w3.org/2000/svg\" height=\"24px\"viewBox=\"0 0 24 24\"\n",
              "     width=\"24px\">\n",
              "    <g>\n",
              "        <path d=\"M19 3H5c-1.1 0-2 .9-2 2v14c0 1.1.9 2 2 2h14c1.1 0 2-.9 2-2V5c0-1.1-.9-2-2-2zM9 17H7v-7h2v7zm4 0h-2V7h2v10zm4 0h-2v-4h2v4z\"/>\n",
              "    </g>\n",
              "</svg>\n",
              "  </button>\n",
              "\n",
              "<style>\n",
              "  .colab-df-quickchart {\n",
              "      --bg-color: #E8F0FE;\n",
              "      --fill-color: #1967D2;\n",
              "      --hover-bg-color: #E2EBFA;\n",
              "      --hover-fill-color: #174EA6;\n",
              "      --disabled-fill-color: #AAA;\n",
              "      --disabled-bg-color: #DDD;\n",
              "  }\n",
              "\n",
              "  [theme=dark] .colab-df-quickchart {\n",
              "      --bg-color: #3B4455;\n",
              "      --fill-color: #D2E3FC;\n",
              "      --hover-bg-color: #434B5C;\n",
              "      --hover-fill-color: #FFFFFF;\n",
              "      --disabled-bg-color: #3B4455;\n",
              "      --disabled-fill-color: #666;\n",
              "  }\n",
              "\n",
              "  .colab-df-quickchart {\n",
              "    background-color: var(--bg-color);\n",
              "    border: none;\n",
              "    border-radius: 50%;\n",
              "    cursor: pointer;\n",
              "    display: none;\n",
              "    fill: var(--fill-color);\n",
              "    height: 32px;\n",
              "    padding: 0;\n",
              "    width: 32px;\n",
              "  }\n",
              "\n",
              "  .colab-df-quickchart:hover {\n",
              "    background-color: var(--hover-bg-color);\n",
              "    box-shadow: 0 1px 2px rgba(60, 64, 67, 0.3), 0 1px 3px 1px rgba(60, 64, 67, 0.15);\n",
              "    fill: var(--button-hover-fill-color);\n",
              "  }\n",
              "\n",
              "  .colab-df-quickchart-complete:disabled,\n",
              "  .colab-df-quickchart-complete:disabled:hover {\n",
              "    background-color: var(--disabled-bg-color);\n",
              "    fill: var(--disabled-fill-color);\n",
              "    box-shadow: none;\n",
              "  }\n",
              "\n",
              "  .colab-df-spinner {\n",
              "    border: 2px solid var(--fill-color);\n",
              "    border-color: transparent;\n",
              "    border-bottom-color: var(--fill-color);\n",
              "    animation:\n",
              "      spin 1s steps(1) infinite;\n",
              "  }\n",
              "\n",
              "  @keyframes spin {\n",
              "    0% {\n",
              "      border-color: transparent;\n",
              "      border-bottom-color: var(--fill-color);\n",
              "      border-left-color: var(--fill-color);\n",
              "    }\n",
              "    20% {\n",
              "      border-color: transparent;\n",
              "      border-left-color: var(--fill-color);\n",
              "      border-top-color: var(--fill-color);\n",
              "    }\n",
              "    30% {\n",
              "      border-color: transparent;\n",
              "      border-left-color: var(--fill-color);\n",
              "      border-top-color: var(--fill-color);\n",
              "      border-right-color: var(--fill-color);\n",
              "    }\n",
              "    40% {\n",
              "      border-color: transparent;\n",
              "      border-right-color: var(--fill-color);\n",
              "      border-top-color: var(--fill-color);\n",
              "    }\n",
              "    60% {\n",
              "      border-color: transparent;\n",
              "      border-right-color: var(--fill-color);\n",
              "    }\n",
              "    80% {\n",
              "      border-color: transparent;\n",
              "      border-right-color: var(--fill-color);\n",
              "      border-bottom-color: var(--fill-color);\n",
              "    }\n",
              "    90% {\n",
              "      border-color: transparent;\n",
              "      border-bottom-color: var(--fill-color);\n",
              "    }\n",
              "  }\n",
              "</style>\n",
              "\n",
              "  <script>\n",
              "    async function quickchart(key) {\n",
              "      const quickchartButtonEl =\n",
              "        document.querySelector('#' + key + ' button');\n",
              "      quickchartButtonEl.disabled = true;  // To prevent multiple clicks.\n",
              "      quickchartButtonEl.classList.add('colab-df-spinner');\n",
              "      try {\n",
              "        const charts = await google.colab.kernel.invokeFunction(\n",
              "            'suggestCharts', [key], {});\n",
              "      } catch (error) {\n",
              "        console.error('Error during call to suggestCharts:', error);\n",
              "      }\n",
              "      quickchartButtonEl.classList.remove('colab-df-spinner');\n",
              "      quickchartButtonEl.classList.add('colab-df-quickchart-complete');\n",
              "    }\n",
              "    (() => {\n",
              "      let quickchartButtonEl =\n",
              "        document.querySelector('#df-9fbbe882-28df-422c-bd2e-411cbcf362d9 button');\n",
              "      quickchartButtonEl.style.display =\n",
              "        google.colab.kernel.accessAllowed ? 'block' : 'none';\n",
              "    })();\n",
              "  </script>\n",
              "</div>\n",
              "    </div>\n",
              "  </div>\n"
            ]
          },
          "metadata": {},
          "execution_count": 1
        }
      ]
    },
    {
      "cell_type": "markdown",
      "metadata": {
        "id": "UeUOxmn39iLQ"
      },
      "source": [
        "## **Load Packages**\n",
        "\n",
        "You are free to use external packages to aid in your analyses. Note that many data science packages are already installed in the Colab environment. You may also install additional packages if necessary ([instructions](https://www.kindacode.com/snippet/how-to-install-python-libraries-in-google-colab/))."
      ]
    },
    {
      "cell_type": "code",
      "metadata": {
        "id": "OiVap60l9xdu"
      },
      "source": [
        "# Load packages here;\n",
        "import matplotlib.pyplot as plt\n",
        "import seaborn as sns\n",
        "from sklearn.decomposition import PCA\n",
        "from sklearn.preprocessing import StandardScaler, OneHotEncoder\n",
        "from sklearn.compose import ColumnTransformer\n",
        "from sklearn.pipeline import Pipeline\n",
        "from sklearn.ensemble import RandomForestClassifier\n",
        "from sklearn.model_selection import train_test_split\n",
        "from sklearn.svm import SVC\n",
        "from sklearn.metrics import accuracy_score\n",
        "from sklearn.linear_model import LogisticRegression\n",
        "from sklearn.metrics import classification_report, confusion_matrix\n",
        "import numpy as np\n",
        "from scipy import stats\n",
        "from sklearn.metrics import log_loss"
      ],
      "execution_count": null,
      "outputs": []
    },
    {
      "cell_type": "markdown",
      "metadata": {
        "id": "-Xe4vPz7CD7b"
      },
      "source": [
        "## **Your Work**\n",
        "\n",
        "Use this section to develop your predictive models. You may create additional code cells, and are encouraged to add text cells that explain the steps of your analysis. When you are satisfied with your model, follow the steps in the **Submit to Competition** section to make a submission to our competition on Kaggle.\n",
        "\n",
        "+ As much as possible, try to group your analyses according to the subheaders within this section. For example, if you choose to do any feature engineering, do it within the *Feature Engineering* section below."
      ]
    },
    {
      "cell_type": "markdown",
      "metadata": {
        "id": "S-7xEfoDvQ0M"
      },
      "source": [
        "### Exploratory Data Analysis (EDA)"
      ]
    },
    {
      "cell_type": "code",
      "metadata": {
        "id": "XdRzqCzTvVIJ",
        "colab": {
          "base_uri": "https://localhost:8080/"
        },
        "outputId": "e4b63135-ecb8-44e6-add2-792ac5e21728"
      },
      "source": [
        "# Add code here to explore the data.\n",
        "summary_stats = train.describe()\n",
        "print(summary_stats)"
      ],
      "execution_count": null,
      "outputs": [
        {
          "output_type": "stream",
          "name": "stdout",
          "text": [
            "         building_id  geo_level_1_id  geo_level_2_id  geo_level_3_id  \\\n",
            "count  208480.000000   208480.000000   208480.000000   208480.000000   \n",
            "mean   230315.056509       13.900979      701.049477     6260.862869   \n",
            "std     75224.174815        8.041721      412.708954     3646.147665   \n",
            "min    100001.000000        0.000000        0.000000        0.000000   \n",
            "25%    165207.750000        7.000000      349.000000     3073.000000   \n",
            "50%    230412.500000       12.000000      703.000000     6280.000000   \n",
            "75%    295377.500000       21.000000     1050.000000     9412.000000   \n",
            "max    360601.000000       30.000000     1427.000000    12567.000000   \n",
            "\n",
            "       count_floors_pre_eq            age  area_percentage  height_percentage  \\\n",
            "count        208480.000000  208480.000000    208480.000000      208480.000000   \n",
            "mean              2.129729      26.633490         8.022794           5.434459   \n",
            "std               0.727376      74.119612         4.399647           1.914803   \n",
            "min               1.000000       0.000000         1.000000           2.000000   \n",
            "25%               2.000000      10.000000         5.000000           4.000000   \n",
            "50%               2.000000      15.000000         7.000000           5.000000   \n",
            "75%               2.000000      30.000000         9.000000           6.000000   \n",
            "max               9.000000     995.000000        96.000000          32.000000   \n",
            "\n",
            "       has_superstructure_adobe_mud  has_superstructure_mud_mortar_stone  ...  \\\n",
            "count                 208480.000000                        208480.000000  ...   \n",
            "mean                       0.088757                             0.761852  ...   \n",
            "std                        0.284393                             0.425951  ...   \n",
            "min                        0.000000                             0.000000  ...   \n",
            "25%                        0.000000                             1.000000  ...   \n",
            "50%                        0.000000                             1.000000  ...   \n",
            "75%                        0.000000                             1.000000  ...   \n",
            "max                        1.000000                             1.000000  ...   \n",
            "\n",
            "       has_secondary_use_hotel  has_secondary_use_rental  \\\n",
            "count            208480.000000             208480.000000   \n",
            "mean                  0.033413                  0.008010   \n",
            "std                   0.179714                  0.089142   \n",
            "min                   0.000000                  0.000000   \n",
            "25%                   0.000000                  0.000000   \n",
            "50%                   0.000000                  0.000000   \n",
            "75%                   0.000000                  0.000000   \n",
            "max                   1.000000                  1.000000   \n",
            "\n",
            "       has_secondary_use_institution  has_secondary_use_school  \\\n",
            "count                  208480.000000             208480.000000   \n",
            "mean                        0.000950                  0.000341   \n",
            "std                         0.030803                  0.018451   \n",
            "min                         0.000000                  0.000000   \n",
            "25%                         0.000000                  0.000000   \n",
            "50%                         0.000000                  0.000000   \n",
            "75%                         0.000000                  0.000000   \n",
            "max                         1.000000                  1.000000   \n",
            "\n",
            "       has_secondary_use_industry  has_secondary_use_health_post  \\\n",
            "count               208480.000000                  208480.000000   \n",
            "mean                     0.001103                       0.000182   \n",
            "std                      0.033197                       0.013500   \n",
            "min                      0.000000                       0.000000   \n",
            "25%                      0.000000                       0.000000   \n",
            "50%                      0.000000                       0.000000   \n",
            "75%                      0.000000                       0.000000   \n",
            "max                      1.000000                       1.000000   \n",
            "\n",
            "       has_secondary_use_gov_office  has_secondary_use_use_police  \\\n",
            "count                 208480.000000                 208480.000000   \n",
            "mean                       0.000153                      0.000091   \n",
            "std                        0.012388                      0.009546   \n",
            "min                        0.000000                      0.000000   \n",
            "25%                        0.000000                      0.000000   \n",
            "50%                        0.000000                      0.000000   \n",
            "75%                        0.000000                      0.000000   \n",
            "max                        1.000000                      1.000000   \n",
            "\n",
            "       has_secondary_use_other   damage_grade  \n",
            "count            208480.000000  208480.000000  \n",
            "mean                  0.005017       0.334210  \n",
            "std                   0.070655       0.471715  \n",
            "min                   0.000000       0.000000  \n",
            "25%                   0.000000       0.000000  \n",
            "50%                   0.000000       0.000000  \n",
            "75%                   0.000000       1.000000  \n",
            "max                   1.000000       1.000000  \n",
            "\n",
            "[8 rows x 32 columns]\n"
          ]
        }
      ]
    },
    {
      "cell_type": "code",
      "source": [
        "#PCA in order to reduce dimensionality\n",
        "\n",
        "#separate features and target\n",
        "X = train.drop(columns=['damage_grade', 'building_id', 'geo_level_1_id', 'geo_level_2_id', 'geo_level_3_id'])\n",
        "y = train['damage_grade']\n",
        "\n",
        "categorical_features = ['land_surface_condition', 'foundation_type', 'roof_type', 'ground_floor_type', 'other_floor_type', 'position', 'plan_configuration', 'legal_ownership_status']\n",
        "numerical_features = [col for col in X.columns if col not in categorical_features]\n",
        "\n",
        "z_scores = np.abs(stats.zscore(X[numerical_features]))\n",
        "z_score_threshold = 3\n",
        "outlier_indices = np.where(z_scores > z_score_threshold)[0]\n",
        "\n",
        "X_no_outliers = X.drop(X.index[outlier_indices])\n",
        "y_no_outliers = y.drop(y.index[outlier_indices])\n",
        "\n",
        "numerical_transformer = Pipeline(steps=[('scaler', StandardScaler())])\n",
        "categorical_transformer = Pipeline(steps=[('onehot', OneHotEncoder(handle_unknown='ignore'))])\n",
        "\n",
        "preprocessor = ColumnTransformer(\n",
        "    transformers=[\n",
        "        ('num', numerical_transformer, numerical_features),\n",
        "        ('cat', categorical_transformer, categorical_features)\n",
        "    ])\n",
        "\n",
        "#keep 10 components\n",
        "pca = PCA(n_components=10)\n",
        "\n",
        "pipeline = Pipeline(steps=[('preprocessor', preprocessor),\n",
        "                           ('pca', pca)])\n",
        "\n",
        "X_pca = pipeline.fit_transform(X_no_outliers)\n",
        "\n",
        "#create a new dataframe for pca components and the target variable\n",
        "pca_columns = [\"PC\" + str(i+1) for i in range(10)]\n",
        "pca_df = pd.DataFrame(data = X_pca, columns = pca_columns)\n",
        "pca_df[\"damage_grade\"] = y_no_outliers\n",
        "\n",
        "#feature_names = [col for col in numerical_features if col not in ['building_id', 'geo_level_1_id', 'geo_level_2_id', 'geo_level_3_id']] + list(pca_columns)\n",
        "feature_names = numerical_features + list(X.columns[len(numerical_features):])\n",
        "\n",
        "\n",
        "explained_variance_ratio = pca.explained_variance_ratio_\n",
        "print(\"Explained Variance Ratio:\", explained_variance_ratio)\n",
        "\n",
        "#scree Plot (visualize explained variance)\n",
        "plt.figure(figsize=(8, 6))\n",
        "plt.plot(range(1, len(explained_variance_ratio) + 1), explained_variance_ratio.cumsum(), marker='o', linestyle='--')\n",
        "plt.title(\"Explained Variance vs. Number of Components\")\n",
        "plt.xlabel(\"Number of Components\")\n",
        "plt.ylabel(\"Explained Variance\")\n",
        "plt.show()\n",
        "\n",
        "#visualize the PCA components\n",
        "plt.figure(figsize=(15, 8))\n",
        "for i in range(len(explained_variance_ratio)):\n",
        "#  if feature_names[i] != \"building_id\" and feature_names[i] != \"geo_level_1_id\" and feature_names[i] != \"geo_level_2_id\" and feature_names[i] != \"geo_level_3_id\":\n",
        "    plt.subplot(4, 3, i + 1)\n",
        "    sns.boxplot(x=\"damage_grade\", y=pca_df.columns[i], data = pca_df)\n",
        "    plt.title(f\"{feature_names[i]}\")\n",
        "plt.tight_layout()\n",
        "plt.show()"
      ],
      "metadata": {
        "colab": {
          "base_uri": "https://localhost:8080/",
          "height": 1000
        },
        "id": "9GlOos-KEYd0",
        "outputId": "82948ad4-2f9d-460e-b0a0-4967c6cb015b"
      },
      "execution_count": null,
      "outputs": [
        {
          "output_type": "stream",
          "name": "stdout",
          "text": [
            "Explained Variance Ratio: [0.22685815 0.1527351  0.11572173 0.10827867 0.10174388 0.07303862\n",
            " 0.04335272 0.03493173 0.02868799 0.02840411]\n"
          ]
        },
        {
          "output_type": "display_data",
          "data": {
            "text/plain": [
              "<Figure size 800x600 with 1 Axes>"
            ],
            "image/png": "[encoded data removed]"
          },
          "metadata": {}
        },
        {
          "output_type": "display_data",
          "data": {
            "text/plain": [
              "<Figure size 1500x800 with 10 Axes>"
            ],
            "image/png": "[encoded data removed]"
          },
          "metadata": {}
        }
      ]
    },
    {
      "cell_type": "markdown",
      "metadata": {
        "id": "fJvFA4f2Rt79"
      },
      "source": [
        "### Feature Engineering"
      ]
    },
    {
      "cell_type": "code",
      "metadata": {
        "id": "T2EM7pF3Yr7I"
      },
      "source": [
        "# Add code here to develop features for your preditive models.\n",
        "\n",
        "#bin the age group\n",
        "age_bins = [0, 2, 4, 6, 8, 10, 12, 14, 16, 18, 20, 30, 40, 50]\n",
        "age_labels = [f\"{age}-{age+2}\" for age in age_bins[:-1]]\n",
        "train['age_group'] = pd.cut(train['age'], bins=age_bins, labels=age_labels)\n",
        "\n",
        "#bin the area percentage group\n",
        "train['area_category'] = pd.qcut(train['area_percentage'], q=5, labels=False, duplicates='drop')"
      ],
      "execution_count": null,
      "outputs": []
    },
    {
      "cell_type": "code",
      "source": [
        "#scale numerical features\n",
        "scaler = StandardScaler()\n",
        "train[numerical_features] = scaler.fit_transform(train[numerical_features])"
      ],
      "metadata": {
        "id": "xMGBjk-LFCYy"
      },
      "execution_count": null,
      "outputs": []
    },
    {
      "cell_type": "markdown",
      "metadata": {
        "id": "tHIkq-LORxCy"
      },
      "source": [
        "### Model Building"
      ]
    },
    {
      "cell_type": "code",
      "metadata": {
        "id": "q_UNAQSHYs4G"
      },
      "source": [
        "# Add code here to build your predictive models\n",
        "\n",
        "X_train, X_test, y_train, y_test = train_test_split(X_pca, y_no_outliers, test_size=0.2, random_state=42)"
      ],
      "execution_count": null,
      "outputs": []
    },
    {
      "cell_type": "code",
      "source": [
        "#random forest\n",
        "rf_model = RandomForestClassifier(n_estimators=100, random_state=42)\n",
        "rf_model.fit(X_train, y_train)\n",
        "\n",
        "y_pred_rf = rf_model.predict(X_test)\n",
        "logloss_rf = log_loss(y_test, y_pred_rf)"
      ],
      "metadata": {
        "id": "QOIf2ak-i6C7"
      },
      "execution_count": null,
      "outputs": []
    },
    {
      "cell_type": "code",
      "source": [
        "print(logloss_rf)"
      ],
      "metadata": {
        "colab": {
          "base_uri": "https://localhost:8080/"
        },
        "id": "R3tBjPdlmULJ",
        "outputId": "3646735e-0aba-4fbf-88d2-7beb39af1f85"
      },
      "execution_count": null,
      "outputs": [
        {
          "output_type": "stream",
          "name": "stdout",
          "text": [
            "14.288174016477162\n"
          ]
        }
      ]
    },
    {
      "cell_type": "code",
      "source": [
        "\n",
        "#svm model\n",
        "svm_model =  SVC(kernel='rbf', C=1.0)\n",
        "svm_model.fit(X_train, y_train)\n",
        "y_pred_svm = svm_model.predict(X_test)\n",
        "\n",
        "accuracy = accuracy_score(y_test, y_pred_svm)\n",
        "print(f\"Accuracy: {accuracy:.2f}\")\n"
      ],
      "metadata": {
        "colab": {
          "base_uri": "https://localhost:8080/"
        },
        "id": "PW44f6UDhYla",
        "outputId": "cfdd03d4-f0ac-4874-94b3-ba245591439b"
      },
      "execution_count": null,
      "outputs": [
        {
          "output_type": "stream",
          "name": "stdout",
          "text": [
            "Accuracy: 0.62\n"
          ]
        }
      ]
    },
    {
      "cell_type": "code",
      "source": [
        "y_pred_svm = svm_model.predict(X_test)\n",
        "logloss_svm = log_loss(y_test, y_pred_svm)\n",
        "print(\"log loss:\", logloss_svm)"
      ],
      "metadata": {
        "colab": {
          "base_uri": "https://localhost:8080/"
        },
        "id": "DozY2Lvzmtfa",
        "outputId": "c8fe86e8-3f8f-4167-e0e4-11e8d45c38ee"
      },
      "execution_count": null,
      "outputs": [
        {
          "output_type": "stream",
          "name": "stdout",
          "text": [
            "log loss: 13.663926223232174\n"
          ]
        }
      ]
    },
    {
      "cell_type": "code",
      "source": [
        "#logistic regression\n",
        "logistic_model = LogisticRegression()\n",
        "logistic_model.fit(X_train, y_train)\n",
        "y_pred_logistic = logistic_model.predict(X_test)\n",
        "print(\"Confusion Matrix:\\n\", confusion_matrix(y_test, y_pred_logistic))\n",
        "print(\"\\nClassification Report:\\n\", classification_report(y_test, y_pred_logistic))\n",
        "\n",
        "y_pred_logistic = logistic_model.predict(X_test)\n",
        "logloss_logistic = log_loss(y_test, y_pred_logistic)\n",
        "print(\"log loss:\", logloss_logistic)"
      ],
      "metadata": {
        "colab": {
          "base_uri": "https://localhost:8080/"
        },
        "id": "IUiMtZroNTW6",
        "outputId": "59aad472-ae8c-42da-f4dd-a7f59b8284f3"
      },
      "execution_count": null,
      "outputs": [
        {
          "output_type": "stream",
          "name": "stdout",
          "text": [
            "Confusion Matrix:\n",
            " [[14018   715]\n",
            " [ 8870   763]]\n",
            "\n",
            "Classification Report:\n",
            "               precision    recall  f1-score   support\n",
            "\n",
            "           0       0.61      0.95      0.75     14733\n",
            "           1       0.52      0.08      0.14      9633\n",
            "\n",
            "    accuracy                           0.61     24366\n",
            "   macro avg       0.56      0.52      0.44     24366\n",
            "weighted avg       0.57      0.61      0.50     24366\n",
            "\n",
            "log loss: 14.178708763633253\n"
          ]
        }
      ]
    },
    {
      "cell_type": "markdown",
      "metadata": {
        "id": "Y1HAxgFkR0tV"
      },
      "source": [
        "### Model Evaluation"
      ]
    },
    {
      "cell_type": "code",
      "metadata": {
        "id": "bz7Qzi96YtfC"
      },
      "source": [
        "# Add code here to evalute your models.\n",
        "y_pred_svm = svm_model.predict(X_test)\n",
        "logloss_svm = log_loss(y_test, y_pred_svm)\n",
        "print(\"log loss:\", logloss_svm)"
      ],
      "execution_count": null,
      "outputs": []
    },
    {
      "cell_type": "markdown",
      "metadata": {
        "id": "BuY0jI0dnl3b"
      },
      "source": [
        "## **Submit to Competition**\n",
        "\n",
        "Run the cell below to read in the test set features.\n",
        "\n",
        "Then, you can use your model to generate predictions on this data, then create a dataframe with the following format / variables:\n",
        "+ `id` - the unique ID for each observation.\n",
        "+ `predicted` - your model's predicted probability that a building has moderate/high damage.\n",
        "\n",
        "The data frame should look like the following:\n",
        "\n",
        "![image.png](data:image/png;base64,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)\n",
        "\n",
        "&#9940; Make sure the `predicted` column contains the *probability* prediction from your model and not a binary (0/1) prediction. Additionally, be aware that you are limited to 100 Kaggle submissions per day.\n",
        "\n",
        "Write this data frame to a csv file called `\"submission.csv\"`. Then download this file by opening the files pane within Colab (look for the &#128193; symbol on the left of the screen). This is shown in the gif below.\n",
        "\n",
        "After downloading the file, make a submission to our [Kaggle competition](https://www.kaggle.com/t/1343c820124247e0afa3d2bbe28f7514). If you haven't already, you'll need to first sign in on Kaggle and hit \"**Join the Competition**\" in order to submit."
      ]
    },
    {
      "cell_type": "code",
      "metadata": {
        "id": "FT0B4GU0yGJS",
        "colab": {
          "base_uri": "https://localhost:8080/",
          "height": 256
        },
        "outputId": "2545eff8-a4e6-4b89-85e8-2c7ca8a45c13"
      },
      "source": [
        "# Download file with features in the test set\n",
        "testFeaturesURL = \"https://drive.google.com/uc?id=1m_VzX9dMs18w_Fiwk4Iy30T3724S8Wcg\"\n",
        "gdown.download(testFeaturesURL, \"test.csv\", quiet=True)\n",
        "\n",
        "# Read test set features into a pandas data frame\n",
        "testFeatures = pd.read_csv(\"test.csv\")\n",
        "testFeatures.head()"
      ],
      "execution_count": null,
      "outputs": [
        {
          "output_type": "execute_result",
          "data": {
            "text/plain": [
              "   building_id  geo_level_1_id  geo_level_2_id  geo_level_3_id  \\\n",
              "0       114565               4             529            4583   \n",
              "1       132642              22             170             286   \n",
              "2       333379              20            1402            3794   \n",
              "3       137682               8             396            4772   \n",
              "4       246829              20             190            3473   \n",
              "\n",
              "   count_floors_pre_eq  age  area_percentage  height_percentage  \\\n",
              "0                    2   40                7                  5   \n",
              "1                    2   30                5                  5   \n",
              "2                    2   40                9                  5   \n",
              "3                    3   20                5                  7   \n",
              "4                    2    5                7                  6   \n",
              "\n",
              "  land_surface_condition foundation_type  ... has_secondary_use_agriculture  \\\n",
              "0                      t               u  ...                             0   \n",
              "1                      t               r  ...                             0   \n",
              "2                      t               r  ...                             0   \n",
              "3                      o               r  ...                             0   \n",
              "4                      t               w  ...                             0   \n",
              "\n",
              "  has_secondary_use_hotel has_secondary_use_rental  \\\n",
              "0                       0                        0   \n",
              "1                       0                        0   \n",
              "2                       0                        0   \n",
              "3                       0                        0   \n",
              "4                       0                        0   \n",
              "\n",
              "  has_secondary_use_institution has_secondary_use_school  \\\n",
              "0                             0                        0   \n",
              "1                             0                        0   \n",
              "2                             0                        0   \n",
              "3                             0                        0   \n",
              "4                             0                        0   \n",
              "\n",
              "   has_secondary_use_industry  has_secondary_use_health_post  \\\n",
              "0                           0                              0   \n",
              "1                           0                              0   \n",
              "2                           0                              0   \n",
              "3                           0                              0   \n",
              "4                           0                              0   \n",
              "\n",
              "   has_secondary_use_gov_office  has_secondary_use_use_police  \\\n",
              "0                             0                             0   \n",
              "1                             0                             0   \n",
              "2                             0                             0   \n",
              "3                             0                             0   \n",
              "4                             0                             0   \n",
              "\n",
              "   has_secondary_use_other  \n",
              "0                        0  \n",
              "1                        0  \n",
              "2                        0  \n",
              "3                        0  \n",
              "4                        0  \n",
              "\n",
              "[5 rows x 39 columns]"
            ],
            "text/html": [
              "\n",
              "  <div id=\"df-744bb83c-d0fd-4d52-bed5-8476983d30c3\" class=\"colab-df-container\">\n",
              "    <div>\n",
              "<style scoped>\n",
              "    .dataframe tbody tr th:only-of-type {\n",
              "        vertical-align: middle;\n",
              "    }\n",
              "\n",
              "    .dataframe tbody tr th {\n",
              "        vertical-align: top;\n",
              "    }\n",
              "\n",
              "    .dataframe thead th {\n",
              "        text-align: right;\n",
              "    }\n",
              "</style>\n",
              "<table border=\"1\" class=\"dataframe\">\n",
              "  <thead>\n",
              "    <tr style=\"text-align: right;\">\n",
              "      <th></th>\n",
              "      <th>building_id</th>\n",
              "      <th>geo_level_1_id</th>\n",
              "      <th>geo_level_2_id</th>\n",
              "      <th>geo_level_3_id</th>\n",
              "      <th>count_floors_pre_eq</th>\n",
              "      <th>age</th>\n",
              "      <th>area_percentage</th>\n",
              "      <th>height_percentage</th>\n",
              "      <th>land_surface_condition</th>\n",
              "      <th>foundation_type</th>\n",
              "      <th>...</th>\n",
              "      <th>has_secondary_use_agriculture</th>\n",
              "      <th>has_secondary_use_hotel</th>\n",
              "      <th>has_secondary_use_rental</th>\n",
              "      <th>has_secondary_use_institution</th>\n",
              "      <th>has_secondary_use_school</th>\n",
              "      <th>has_secondary_use_industry</th>\n",
              "      <th>has_secondary_use_health_post</th>\n",
              "      <th>has_secondary_use_gov_office</th>\n",
              "      <th>has_secondary_use_use_police</th>\n",
              "      <th>has_secondary_use_other</th>\n",
              "    </tr>\n",
              "  </thead>\n",
              "  <tbody>\n",
              "    <tr>\n",
              "      <th>0</th>\n",
              "      <td>114565</td>\n",
              "      <td>4</td>\n",
              "      <td>529</td>\n",
              "      <td>4583</td>\n",
              "      <td>2</td>\n",
              "      <td>40</td>\n",
              "      <td>7</td>\n",
              "      <td>5</td>\n",
              "      <td>t</td>\n",
              "      <td>u</td>\n",
              "      <td>...</td>\n",
              "      <td>0</td>\n",
              "      <td>0</td>\n",
              "      <td>0</td>\n",
              "      <td>0</td>\n",
              "      <td>0</td>\n",
              "      <td>0</td>\n",
              "      <td>0</td>\n",
              "      <td>0</td>\n",
              "      <td>0</td>\n",
              "      <td>0</td>\n",
              "    </tr>\n",
              "    <tr>\n",
              "      <th>1</th>\n",
              "      <td>132642</td>\n",
              "      <td>22</td>\n",
              "      <td>170</td>\n",
              "      <td>286</td>\n",
              "      <td>2</td>\n",
              "      <td>30</td>\n",
              "      <td>5</td>\n",
              "      <td>5</td>\n",
              "      <td>t</td>\n",
              "      <td>r</td>\n",
              "      <td>...</td>\n",
              "      <td>0</td>\n",
              "      <td>0</td>\n",
              "      <td>0</td>\n",
              "      <td>0</td>\n",
              "      <td>0</td>\n",
              "      <td>0</td>\n",
              "      <td>0</td>\n",
              "      <td>0</td>\n",
              "      <td>0</td>\n",
              "      <td>0</td>\n",
              "    </tr>\n",
              "    <tr>\n",
              "      <th>2</th>\n",
              "      <td>333379</td>\n",
              "      <td>20</td>\n",
              "      <td>1402</td>\n",
              "      <td>3794</td>\n",
              "      <td>2</td>\n",
              "      <td>40</td>\n",
              "      <td>9</td>\n",
              "      <td>5</td>\n",
              "      <td>t</td>\n",
              "      <td>r</td>\n",
              "      <td>...</td>\n",
              "      <td>0</td>\n",
              "      <td>0</td>\n",
              "      <td>0</td>\n",
              "      <td>0</td>\n",
              "      <td>0</td>\n",
              "      <td>0</td>\n",
              "      <td>0</td>\n",
              "      <td>0</td>\n",
              "      <td>0</td>\n",
              "      <td>0</td>\n",
              "    </tr>\n",
              "    <tr>\n",
              "      <th>3</th>\n",
              "      <td>137682</td>\n",
              "      <td>8</td>\n",
              "      <td>396</td>\n",
              "      <td>4772</td>\n",
              "      <td>3</td>\n",
              "      <td>20</td>\n",
              "      <td>5</td>\n",
              "      <td>7</td>\n",
              "      <td>o</td>\n",
              "      <td>r</td>\n",
              "      <td>...</td>\n",
              "      <td>0</td>\n",
              "      <td>0</td>\n",
              "      <td>0</td>\n",
              "      <td>0</td>\n",
              "      <td>0</td>\n",
              "      <td>0</td>\n",
              "      <td>0</td>\n",
              "      <td>0</td>\n",
              "      <td>0</td>\n",
              "      <td>0</td>\n",
              "    </tr>\n",
              "    <tr>\n",
              "      <th>4</th>\n",
              "      <td>246829</td>\n",
              "      <td>20</td>\n",
              "      <td>190</td>\n",
              "      <td>3473</td>\n",
              "      <td>2</td>\n",
              "      <td>5</td>\n",
              "      <td>7</td>\n",
              "      <td>6</td>\n",
              "      <td>t</td>\n",
              "      <td>w</td>\n",
              "      <td>...</td>\n",
              "      <td>0</td>\n",
              "      <td>0</td>\n",
              "      <td>0</td>\n",
              "      <td>0</td>\n",
              "      <td>0</td>\n",
              "      <td>0</td>\n",
              "      <td>0</td>\n",
              "      <td>0</td>\n",
              "      <td>0</td>\n",
              "      <td>0</td>\n",
              "    </tr>\n",
              "  </tbody>\n",
              "</table>\n",
              "<p>5 rows × 39 columns</p>\n",
              "</div>\n",
              "    <div class=\"colab-df-buttons\">\n",
              "\n",
              "  <div class=\"colab-df-container\">\n",
              "    <button class=\"colab-df-convert\" onclick=\"convertToInteractive('df-744bb83c-d0fd-4d52-bed5-8476983d30c3')\"\n",
              "            title=\"Convert this dataframe to an interactive table.\"\n",
              "            style=\"display:none;\">\n",
              "\n",
              "  <svg xmlns=\"http://www.w3.org/2000/svg\" height=\"24px\" viewBox=\"0 -960 960 960\">\n",
              "    <path d=\"M120-120v-720h720v720H120Zm60-500h600v-160H180v160Zm220 220h160v-160H400v160Zm0 220h160v-160H400v160ZM180-400h160v-160H180v160Zm440 0h160v-160H620v160ZM180-180h160v-160H180v160Zm440 0h160v-160H620v160Z\"/>\n",
              "  </svg>\n",
              "    </button>\n",
              "\n",
              "  <style>\n",
              "    .colab-df-container {\n",
              "      display:flex;\n",
              "      gap: 12px;\n",
              "    }\n",
              "\n",
              "    .colab-df-convert {\n",
              "      background-color: #E8F0FE;\n",
              "      border: none;\n",
              "      border-radius: 50%;\n",
              "      cursor: pointer;\n",
              "      display: none;\n",
              "      fill: #1967D2;\n",
              "      height: 32px;\n",
              "      padding: 0 0 0 0;\n",
              "      width: 32px;\n",
              "    }\n",
              "\n",
              "    .colab-df-convert:hover {\n",
              "      background-color: #E2EBFA;\n",
              "      box-shadow: 0px 1px 2px rgba(60, 64, 67, 0.3), 0px 1px 3px 1px rgba(60, 64, 67, 0.15);\n",
              "      fill: #174EA6;\n",
              "    }\n",
              "\n",
              "    .colab-df-buttons div {\n",
              "      margin-bottom: 4px;\n",
              "    }\n",
              "\n",
              "    [theme=dark] .colab-df-convert {\n",
              "      background-color: #3B4455;\n",
              "      fill: #D2E3FC;\n",
              "    }\n",
              "\n",
              "    [theme=dark] .colab-df-convert:hover {\n",
              "      background-color: #434B5C;\n",
              "      box-shadow: 0px 1px 3px 1px rgba(0, 0, 0, 0.15);\n",
              "      filter: drop-shadow(0px 1px 2px rgba(0, 0, 0, 0.3));\n",
              "      fill: #FFFFFF;\n",
              "    }\n",
              "  </style>\n",
              "\n",
              "    <script>\n",
              "      const buttonEl =\n",
              "        document.querySelector('#df-744bb83c-d0fd-4d52-bed5-8476983d30c3 button.colab-df-convert');\n",
              "      buttonEl.style.display =\n",
              "        google.colab.kernel.accessAllowed ? 'block' : 'none';\n",
              "\n",
              "      async function convertToInteractive(key) {\n",
              "        const element = document.querySelector('#df-744bb83c-d0fd-4d52-bed5-8476983d30c3');\n",
              "        const dataTable =\n",
              "          await google.colab.kernel.invokeFunction('convertToInteractive',\n",
              "                                                    [key], {});\n",
              "        if (!dataTable) return;\n",
              "\n",
              "        const docLinkHtml = 'Like what you see? Visit the ' +\n",
              "          '<a target=\"_blank\" href=https://colab.research.google.com/notebooks/data_table.ipynb>data table notebook</a>'\n",
              "          + ' to learn more about interactive tables.';\n",
              "        element.innerHTML = '';\n",
              "        dataTable['output_type'] = 'display_data';\n",
              "        await google.colab.output.renderOutput(dataTable, element);\n",
              "        const docLink = document.createElement('div');\n",
              "        docLink.innerHTML = docLinkHtml;\n",
              "        element.appendChild(docLink);\n",
              "      }\n",
              "    </script>\n",
              "  </div>\n",
              "\n",
              "\n",
              "<div id=\"df-68ef351f-60c9-4ac2-8147-8a670fe4de1c\">\n",
              "  <button class=\"colab-df-quickchart\" onclick=\"quickchart('df-68ef351f-60c9-4ac2-8147-8a670fe4de1c')\"\n",
              "            title=\"Suggest charts.\"\n",
              "            style=\"display:none;\">\n",
              "\n",
              "<svg xmlns=\"http://www.w3.org/2000/svg\" height=\"24px\"viewBox=\"0 0 24 24\"\n",
              "     width=\"24px\">\n",
              "    <g>\n",
              "        <path d=\"M19 3H5c-1.1 0-2 .9-2 2v14c0 1.1.9 2 2 2h14c1.1 0 2-.9 2-2V5c0-1.1-.9-2-2-2zM9 17H7v-7h2v7zm4 0h-2V7h2v10zm4 0h-2v-4h2v4z\"/>\n",
              "    </g>\n",
              "</svg>\n",
              "  </button>\n",
              "\n",
              "<style>\n",
              "  .colab-df-quickchart {\n",
              "      --bg-color: #E8F0FE;\n",
              "      --fill-color: #1967D2;\n",
              "      --hover-bg-color: #E2EBFA;\n",
              "      --hover-fill-color: #174EA6;\n",
              "      --disabled-fill-color: #AAA;\n",
              "      --disabled-bg-color: #DDD;\n",
              "  }\n",
              "\n",
              "  [theme=dark] .colab-df-quickchart {\n",
              "      --bg-color: #3B4455;\n",
              "      --fill-color: #D2E3FC;\n",
              "      --hover-bg-color: #434B5C;\n",
              "      --hover-fill-color: #FFFFFF;\n",
              "      --disabled-bg-color: #3B4455;\n",
              "      --disabled-fill-color: #666;\n",
              "  }\n",
              "\n",
              "  .colab-df-quickchart {\n",
              "    background-color: var(--bg-color);\n",
              "    border: none;\n",
              "    border-radius: 50%;\n",
              "    cursor: pointer;\n",
              "    display: none;\n",
              "    fill: var(--fill-color);\n",
              "    height: 32px;\n",
              "    padding: 0;\n",
              "    width: 32px;\n",
              "  }\n",
              "\n",
              "  .colab-df-quickchart:hover {\n",
              "    background-color: var(--hover-bg-color);\n",
              "    box-shadow: 0 1px 2px rgba(60, 64, 67, 0.3), 0 1px 3px 1px rgba(60, 64, 67, 0.15);\n",
              "    fill: var(--button-hover-fill-color);\n",
              "  }\n",
              "\n",
              "  .colab-df-quickchart-complete:disabled,\n",
              "  .colab-df-quickchart-complete:disabled:hover {\n",
              "    background-color: var(--disabled-bg-color);\n",
              "    fill: var(--disabled-fill-color);\n",
              "    box-shadow: none;\n",
              "  }\n",
              "\n",
              "  .colab-df-spinner {\n",
              "    border: 2px solid var(--fill-color);\n",
              "    border-color: transparent;\n",
              "    border-bottom-color: var(--fill-color);\n",
              "    animation:\n",
              "      spin 1s steps(1) infinite;\n",
              "  }\n",
              "\n",
              "  @keyframes spin {\n",
              "    0% {\n",
              "      border-color: transparent;\n",
              "      border-bottom-color: var(--fill-color);\n",
              "      border-left-color: var(--fill-color);\n",
              "    }\n",
              "    20% {\n",
              "      border-color: transparent;\n",
              "      border-left-color: var(--fill-color);\n",
              "      border-top-color: var(--fill-color);\n",
              "    }\n",
              "    30% {\n",
              "      border-color: transparent;\n",
              "      border-left-color: var(--fill-color);\n",
              "      border-top-color: var(--fill-color);\n",
              "      border-right-color: var(--fill-color);\n",
              "    }\n",
              "    40% {\n",
              "      border-color: transparent;\n",
              "      border-right-color: var(--fill-color);\n",
              "      border-top-color: var(--fill-color);\n",
              "    }\n",
              "    60% {\n",
              "      border-color: transparent;\n",
              "      border-right-color: var(--fill-color);\n",
              "    }\n",
              "    80% {\n",
              "      border-color: transparent;\n",
              "      border-right-color: var(--fill-color);\n",
              "      border-bottom-color: var(--fill-color);\n",
              "    }\n",
              "    90% {\n",
              "      border-color: transparent;\n",
              "      border-bottom-color: var(--fill-color);\n",
              "    }\n",
              "  }\n",
              "</style>\n",
              "\n",
              "  <script>\n",
              "    async function quickchart(key) {\n",
              "      const quickchartButtonEl =\n",
              "        document.querySelector('#' + key + ' button');\n",
              "      quickchartButtonEl.disabled = true;  // To prevent multiple clicks.\n",
              "      quickchartButtonEl.classList.add('colab-df-spinner');\n",
              "      try {\n",
              "        const charts = await google.colab.kernel.invokeFunction(\n",
              "            'suggestCharts', [key], {});\n",
              "      } catch (error) {\n",
              "        console.error('Error during call to suggestCharts:', error);\n",
              "      }\n",
              "      quickchartButtonEl.classList.remove('colab-df-spinner');\n",
              "      quickchartButtonEl.classList.add('colab-df-quickchart-complete');\n",
              "    }\n",
              "    (() => {\n",
              "      let quickchartButtonEl =\n",
              "        document.querySelector('#df-68ef351f-60c9-4ac2-8147-8a670fe4de1c button');\n",
              "      quickchartButtonEl.style.display =\n",
              "        google.colab.kernel.accessAllowed ? 'block' : 'none';\n",
              "    })();\n",
              "  </script>\n",
              "</div>\n",
              "    </div>\n",
              "  </div>\n"
            ]
          },
          "metadata": {},
          "execution_count": 54
        }
      ]
    },
    {
      "cell_type": "code",
      "metadata": {
        "id": "BNuISjbz3d6h"
      },
      "source": [
        "# Add code to generate your predictions for the test set here.\n",
        "\n",
        "categorical_features = ['land_surface_condition', 'foundation_type', 'roof_type', 'ground_floor_type', 'other_floor_type', 'position', 'plan_configuration', 'legal_ownership_status']\n",
        "\n",
        "X_test = testFeatures.drop(columns=['geo_level_1_id', 'geo_level_2_id', 'geo_level_3_id'])\n",
        "\n",
        "'''\n",
        "z_score_threshold = 3.0\n",
        "\n",
        "numerical_features = [col for col in X_test.columns if col not in categorical_features]\n",
        "z_scores = np.abs(stats.zscore(X_test[numerical_features]))\n",
        "\n",
        "outlier_indices = np.where(z_scores > z_score_threshold)[0]\n",
        "\n",
        "X_test.drop(X_test.index[outlier_indices], inplace=True)\n",
        "'''\n",
        "numerical_transformer = Pipeline(steps=[('scaler', StandardScaler())])\n",
        "categorical_transformer = Pipeline(steps=[('onehot', OneHotEncoder(handle_unknown='ignore'))])\n",
        "\n",
        "preprocessor = ColumnTransformer(\n",
        "    transformers=[\n",
        "        ('num', numerical_transformer, numerical_features),\n",
        "        ('cat', categorical_transformer, categorical_features)\n",
        "    ])\n",
        "\n",
        "n_components = 10\n",
        "pca = PCA(n_components=n_components)\n",
        "\n",
        "pipeline = Pipeline(steps=[('preprocessor', preprocessor),\n",
        "                           ('pca', pca)])\n",
        "\n",
        "X_test_processed = pipeline.fit_transform(X_test)"
      ],
      "execution_count": null,
      "outputs": []
    },
    {
      "cell_type": "code",
      "source": [
        "print(X_test_processed.shape)"
      ],
      "metadata": {
        "colab": {
          "base_uri": "https://localhost:8080/"
        },
        "id": "BcJvF9ub3iND",
        "outputId": "7feb6973-8de1-48f8-8d8c-ecca1724da0c"
      },
      "execution_count": null,
      "outputs": [
        {
          "output_type": "stream",
          "name": "stdout",
          "text": [
            "(30328, 10)\n"
          ]
        }
      ]
    },
    {
      "cell_type": "code",
      "source": [
        "y_test_pred = svm_model.decision_function(X_test_processed)"
      ],
      "metadata": {
        "id": "2CYGalYsxQlT"
      },
      "execution_count": null,
      "outputs": []
    },
    {
      "cell_type": "code",
      "source": [
        "#map probabilities\n",
        "def map_to_probability(decision_values):\n",
        "    min_decision = np.min(decision_values)\n",
        "    max_decision = np.max(decision_values)\n",
        "    scaled_values = (decision_values - min_decision) / (max_decision - min_decision)\n",
        "\n",
        "    probabilities = 1 - scaled_values\n",
        "    return probabilities\n",
        "\n",
        "y_test_prob = map_to_probability(y_test_pred)\n"
      ],
      "metadata": {
        "id": "fGpsjf4R8MV7"
      },
      "execution_count": null,
      "outputs": []
    },
    {
      "cell_type": "code",
      "source": [
        "test_ids = X_test['building_id']\n",
        "predictions_df = pd.DataFrame({\n",
        "    'id': test_ids,\n",
        "    'predicted': y_test_prob\n",
        "})"
      ],
      "metadata": {
        "id": "BS50zirf2aUm"
      },
      "execution_count": null,
      "outputs": []
    },
    {
      "cell_type": "code",
      "source": [
        "print(predictions_df)"
      ],
      "metadata": {
        "colab": {
          "base_uri": "https://localhost:8080/"
        },
        "id": "16WFNU2w7nOH",
        "outputId": "aed217a3-de4b-47bf-feda-499ab0855e2e"
      },
      "execution_count": null,
      "outputs": [
        {
          "output_type": "stream",
          "name": "stdout",
          "text": [
            "           id  predicted\n",
            "0      114565   0.747925\n",
            "1      132642   0.717569\n",
            "2      333379   0.834473\n",
            "3      137682   0.621835\n",
            "4      246829   0.757251\n",
            "...       ...        ...\n",
            "52116  261137   0.806400\n",
            "52117  297100   0.593182\n",
            "52118  286586   0.838814\n",
            "52119  306698   0.834820\n",
            "52120  136630   0.618268\n",
            "\n",
            "[52121 rows x 2 columns]\n"
          ]
        }
      ]
    },
    {
      "cell_type": "code",
      "source": [
        "# See below for an example of exporting a pandas data frame called \"submission\" to a csv file.\n",
        "predictions_df.to_csv(\"Victoria Xinyue Shi_submissions.csv\", index=False)"
      ],
      "metadata": {
        "id": "uDDN9QhXBDqf"
      },
      "execution_count": null,
      "outputs": []
    },
    {
      "cell_type": "code",
      "source": [
        "#@title\n",
        "from IPython.display import HTML\n",
        "\n",
        "HTML(\"\"\"\n",
        "<div align=\"left\">\n",
        "<video width=\"70%\" controls>\n",
        "      <source src=\"https://i.imgur.com/GQy0Gm5.mp4\" type=\"video/mp4\">\n",
        "</video></div>\"\"\")"
      ],
      "metadata": {
        "colab": {
          "base_uri": "https://localhost:8080/",
          "height": 544
        },
        "cellView": "form",
        "id": "E5fJ_yRXA81C",
        "outputId": "00d9eaaa-153d-4ad3-88a8-315f80eb85a1"
      },
      "execution_count": null,
      "outputs": [
        {
          "output_type": "execute_result",
          "data": {
            "text/html": [
              "\n",
              "<div align=\"left\">\n",
              "<video width=\"70%\" controls>\n",
              "      <source src=\"https://i.imgur.com/GQy0Gm5.mp4\" type=\"video/mp4\">\n",
              "</video></div>"
            ],
            "text/plain": [
              "<IPython.core.display.HTML object>"
            ]
          },
          "metadata": {},
          "execution_count": 28
        }
      ]
    }
  ]
}